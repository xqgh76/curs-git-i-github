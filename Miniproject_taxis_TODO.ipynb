{
  "cells": [
    {
      "cell_type": "markdown",
      "metadata": {
        "id": "view-in-github",
        "colab_type": "text"
      },
      "source": [
        "<a href=\"https://colab.research.google.com/github/xqgh76/curs-git-i-github/blob/main/Miniproject_taxis_TODO.ipynb\" target=\"_parent\"><img src=\"https://colab.research.google.com/assets/colab-badge.svg\" alt=\"Open In Colab\"/></a>"
      ]
    },
    {
      "cell_type": "markdown",
      "id": "diverse-closure",
      "metadata": {
        "id": "diverse-closure"
      },
      "source": [
        "# Anàlisi exploratòria de dades i preprocessament\n",
        "\n",
        "L'**anàlisi exploratòria de dades** és el tractament estadístic al qual se sotmeten les mostres recollides durant un procés de recerca en qualsevol camp científic.\n",
        "\n",
        "\n",
        "**Procés bàsic**\n",
        "- *Transformar les dades*: Ens serveix per saber què fer front a valors nuls, faltants o dades atípiques. A més d'establir si hi ha necessitat de reduir la dimensionalitat de dades.\n",
        "- *Visualitzar*: Utilitzar alguna eina per fer una representació gràfica de les dades, per exemple, R, Jupyter notebook, Google Colab, etc.\n",
        "- *Analitzar i interpretar*: Analitzar i interpretar les dades a través de diferents visualitzacions.\n",
        "- *Documentar*: Documentar totes les gràfiques i estadístiques generades.\n",
        "\n",
        "Si realitzem correctament els passos ens facilitarem la manera d'abordar aquestes dades sense deixar de banda l'objectiu o el propòsit per al qual les necessitem."
      ]
    },
    {
      "cell_type": "markdown",
      "id": "cellular-animation",
      "metadata": {
        "id": "cellular-animation"
      },
      "source": [
        "L'**objectiu d'aquesta pràctica** és aprendre com fer una explicació de dades. En aquest cas utilitzarem les dades dels **taxis grocs de la ciutat de Nova York**.\n",
        "\n",
        "En finalitzar el notebook, haureu de ser capaços de respondre la pregunta següent:\n",
        "\n",
        "\n",
        "## ¿Com ha afectat la covid a l'ús dels taxis a Nova York?\n",
        "\n",
        "Algunes de les preguntes que ens farem al llarg del notebook són:\n",
        "- Com ha canviat la covid l'ús dels taxis a NYC?\n",
        "- Quina distribució d'encàrrecs segueixen els taxis i quina distància / durada tenen?\n",
        "- Quines són les zones on més / menys taxis s'agafen? I a on més va la gent?\n",
        "- Quins horaris són els més usuals?\n",
        "- Quins dies de la setmana i del mes s'utilitzen més? Possibles motius?"
      ]
    },
    {
      "cell_type": "code",
      "execution_count": null,
      "id": "82d1a6fd",
      "metadata": {
        "id": "82d1a6fd"
      },
      "outputs": [],
      "source": [
        "# adjust the width of the output container in the notebook\n",
        "from IPython.core.display import display,HTML\n",
        "display(HTML('<style>.container {width: 99% !important;}</style>'))"
      ]
    },
    {
      "cell_type": "markdown",
      "id": "innocent-receptor",
      "metadata": {
        "id": "innocent-receptor"
      },
      "source": [
        "**Instal·lació i importació de les llibreries necessàries**"
      ]
    },
    {
      "cell_type": "code",
      "execution_count": null,
      "id": "sharing-bridges",
      "metadata": {
        "tags": [],
        "id": "sharing-bridges"
      },
      "outputs": [],
      "source": [
        "! pip install pyarrow\n",
        "! pip install pyshp\n",
        "! pip install shapely"
      ]
    },
    {
      "cell_type": "code",
      "execution_count": null,
      "id": "anonymous-freeware",
      "metadata": {
        "id": "anonymous-freeware"
      },
      "outputs": [],
      "source": [
        "# Importació de les llibreries\n",
        "import pandas as pd\n",
        "import numpy as np\n",
        "import urllib.request\n",
        "import zipfile\n",
        "import os\n",
        "from tqdm.notebook import tqdm\n",
        "import pyarrow.parquet as pq"
      ]
    },
    {
      "cell_type": "code",
      "execution_count": null,
      "id": "changing-simpson",
      "metadata": {
        "id": "changing-simpson"
      },
      "outputs": [],
      "source": [
        "import shapefile\n",
        "from shapely.geometry import Polygon\n",
        "# from descartes.patch import PolygonPatch\n",
        "import seaborn as sns\n",
        "import matplotlib as mpl\n",
        "import matplotlib.pyplot as plt\n",
        "%matplotlib inline\n",
        "sns.set_theme(color_codes=False)"
      ]
    },
    {
      "cell_type": "code",
      "execution_count": null,
      "id": "recreational-legislation",
      "metadata": {
        "id": "recreational-legislation"
      },
      "outputs": [],
      "source": [
        "# Variables globals\n",
        "YEARS = [2019, 2020, 2021]"
      ]
    },
    {
      "cell_type": "markdown",
      "id": "colonial-professor",
      "metadata": {
        "id": "colonial-professor"
      },
      "source": [
        "Primer de tot cal descarregar les dades:\n",
        "\n",
        "https://www1.nyc.gov/site/tlc/about/tlc-trip-record-data.page"
      ]
    },
    {
      "cell_type": "code",
      "execution_count": null,
      "id": "seventh-radius",
      "metadata": {
        "tags": [],
        "id": "seventh-radius"
      },
      "outputs": [],
      "source": [
        "# Download the Trip Record Data\n",
        "for year in tqdm(YEARS):\n",
        "    if not os.path.exists(f'data/{year}'):\n",
        "        os.makedirs(f'data/{year}', exist_ok=True)\n",
        "        for month in tqdm(range(1, 13)):\n",
        "            urllib.request.urlretrieve(f'https://d37ci6vzurychx.cloudfront.net/trip-data/yellow_tripdata_{year}-{month:02d}.parquet', f'data/{year}/{month:02d}.parquet')"
      ]
    },
    {
      "cell_type": "markdown",
      "id": "warming-shore",
      "metadata": {
        "id": "warming-shore"
      },
      "source": [
        "## 01. Neteja de dades\n",
        "\n",
        "Per tal de tenir unes dades netes i útils, cal eliminar totes aquelles files que continguin informació corrupta:\n",
        "- La recollida és després que la finalització del trajecte.\n",
        "- Les dades s'importen per mes i any. Les dates són correctes?\n",
        "- Viatges amb 0 passatges?\n",
        "- Viatges molts llargs o molt curts?\n",
        "- Pagaments negatius."
      ]
    },
    {
      "cell_type": "markdown",
      "id": "continent-ecology",
      "metadata": {
        "id": "continent-ecology"
      },
      "source": [
        "**Observacions:**\n",
        "\n",
        "- Per agilitzar els càlculs i reduir el temps de còmput, feu un sampleig uniforme de les dades.\n",
        "- Columnes de dates són to_datetime series"
      ]
    },
    {
      "cell_type": "code",
      "execution_count": null,
      "id": "boxed-exemption",
      "metadata": {
        "id": "boxed-exemption"
      },
      "outputs": [],
      "source": [
        "def load_table(year, month):\n",
        "    \"\"\"\n",
        "    Funció que llegeix les dades descarregades i les converteix a un DataFrame\n",
        "\n",
        "    Args:\n",
        "        year (int): The year of the data to load.\n",
        "        month (int): The month of the data to load.\n",
        "\n",
        "    Returns:\n",
        "        pd.DataFrame: A pandas DataFrame containing the loaded data.\n",
        "    \"\"\"\n",
        "    return pq.read_table(f'data/{year}/{str(month).zfill(2)}.parquet').to_pandas()"
      ]
    },
    {
      "cell_type": "code",
      "source": [
        "# TODO: Visualitza les dades d'un mes\n"
      ],
      "metadata": {
        "id": "99eKDHSzBmLT"
      },
      "id": "99eKDHSzBmLT",
      "execution_count": null,
      "outputs": []
    },
    {
      "cell_type": "markdown",
      "id": "decent-aaron",
      "metadata": {
        "id": "decent-aaron"
      },
      "source": [
        "**Data Dictionary**\n",
        "\n",
        "De totes les columnes que tenen les dades, només calen les següents:\n",
        "\n",
        "- *tpep_pickup_datetime*: The date and time when the meter was engaged.\n",
        "- *tpep_dropoff_datetime*: The date and time when the meter was disengaged.\n",
        "- *Passenger_count*: The number of passengers in the vehicle. (This is a driver-entered value)\n",
        "- *Trip_distance*: The elapsed trip distance in miles reported by the taximeter.\n",
        "- *PULocationID*: TLC Taxi Zone in which the taximeter was engaged\n",
        "- *DOLocationID*: TLC Taxi Zone in which the taximeter was disengaged\n",
        "- *Payment_type*: A numeric code signifying how the passenger paid for the trip.\n",
        "    - 1= Credit card\n",
        "    - 2= Cash\n",
        "    - 3= No charge\n",
        "    - 4= Dispute\n",
        "    - 5= Unknown\n",
        "    - 6= Voided trip\n",
        "- *Fare_amount*: The time-and-distance fare calculated by the meter.\n",
        "- *Total_amount*: The total amount charged to passengers. Does not include cash tips."
      ]
    },
    {
      "cell_type": "markdown",
      "source": [
        "### Exercici 1\n",
        "\n",
        "Completa el codi de la funcio  funció `clean_data` seguint els passos indicats per\n",
        "netejar i filtrar el DataFrame `data`.\n",
        "\n",
        "**La funció ha de realitzar les següents operacions de neteja i filtratge:**\n",
        "\n",
        "1.  **Selecció de Columnes:** Conservar només les columnes especificades a `required_data`.\n",
        "2.  **Mostreig de Dades:** Aplicar un mostreig basat en el paràmetre `sampling`.\n",
        "3.  **Gestió de Valors Nuls i Duplicats:** Eliminar files amb valors nuls i duplicats.\n",
        "4.  **Filtratge Temporal:** Assegurar que la data de baixada sigui posterior a la de recollida.\n",
        "    A més, filtrar les dades per l'any i el mes especificats.\n",
        "5.  **Validació de Valors Numèrics:** Eliminar registres amb valors no vàlids (negatius o zero)\n",
        "    per a `passenger_count`, `trip_distance`, `fare_amount` i `total_amount`.\n",
        "\n",
        "---\n",
        "\n",
        "### Pistes\n",
        "\n",
        "* **Selecció de columnes:** Pots crear una llista de columnes a eliminar i fer servir `data.drop()`.\n",
        "* **Mostreig:** Utilitza `data[::sampling]` per a mostreig enter, i `data.sample(frac=sampling)` per a mostreig flotant.\n",
        "* **NaNs i duplicats:** Fes servir `dropna()` i `drop_duplicates()` amb `inplace=True`.\n",
        "* **Filtratge per temps i data:** Compara columnes de temps directament. Per filtrar per any i mes,\n",
        "    accedeix a `.dt.year` i `.dt.month` de les columnes de datetime.\n",
        "* **Validació de valors:** Utilitza condicions booleanes dins de claudàtors `data[...]` per filtrar files."
      ],
      "metadata": {
        "id": "O9sc-dF2XdZh"
      },
      "id": "O9sc-dF2XdZh"
    },
    {
      "cell_type": "code",
      "source": [
        "required_data = ['tpep_pickup_datetime', 'tpep_dropoff_datetime', 'passenger_count',\n",
        "                 'trip_distance', 'PULocationID', 'DOLocationID', 'payment_type', 'fare_amount', 'total_amount']\n",
        "\n",
        "def clean_data(data, year, month, sampling = 1000):\n",
        "    \"\"\"\n",
        "    Neteja i filtra un DataFrame de dades de trajectes de taxi.\n",
        "\n",
        "    Args:\n",
        "        data (pd.DataFrame): El DataFrame d'entrada amb les dades dels trajectes de taxi.\n",
        "        year (int): L'any de les dades a netejar.\n",
        "        month (int): El mes de les dades a netejar.\n",
        "        sampling (int or float, optional): Estratègia de mostreig. Si és un 'int',\n",
        "                                           pren cada 'sampling' fila. Si és un 'float'\n",
        "                                           (entre 0 i 1), pren una fracció de les dades.\n",
        "                                           Per defecte és 1000.\n",
        "    Returns:\n",
        "        pd.DataFrame: The cleaned and filtered DataFrame.\n",
        "\n",
        "    Comprovarem:\n",
        "      - tpep_dropoff_datetime - tpep_pickup_datetime > 1 && < 1 day?\n",
        "      - Passenger_count > 0\n",
        "      - Trip_distance > 0\n",
        "      - Payment_type: A numeric code signifying how the passenger paid for the trip.\n",
        "            1= Targeta de crèdit\n",
        "            2= Efectiu\n",
        "            3= Sense càrrec\n",
        "            4= Disputa\n",
        "            5= Desconegut\n",
        "            6= Viatge anul·lat\n",
        "      - Fare_amount > 0\n",
        "      - Total_amount > 0\n",
        "    \"\"\"\n",
        "\n",
        "    # TODO: Implementa el codi de la funció\n",
        "    raise NotImplementedError\n",
        "\n",
        "    return (data)"
      ],
      "metadata": {
        "id": "93KOfNo5W3iD"
      },
      "id": "93KOfNo5W3iD",
      "execution_count": null,
      "outputs": []
    },
    {
      "cell_type": "markdown",
      "id": "concrete-underground",
      "metadata": {
        "id": "concrete-underground"
      },
      "source": [
        "A la funció *post_processing* podeu afegir tota la informació que necessiteu sobre les dades per tal de dur a terme l'exploració necessària."
      ]
    },
    {
      "cell_type": "code",
      "execution_count": null,
      "id": "immediate-pakistan",
      "metadata": {
        "tags": [],
        "id": "immediate-pakistan"
      },
      "outputs": [],
      "source": [
        "def post_processing(data):\n",
        "    \"\"\"\n",
        "    Funció on implementar qualsevol tipus de postprocessament necessari.\n",
        "\n",
        "    Args:\n",
        "        data (pd.DataFrame): El DataFrame d'entrada amb les dades dels trajectes de taxi.\n",
        "\n",
        "    Returns:\n",
        "        pd.DataFrame: The DataFrame with added post-processed columns.\n",
        "    \"\"\"\n",
        "\n",
        "    # Passem la distància a quilòmetres\n",
        "    data['trip_distance'] = data['trip_distance'] * 1.6\n",
        "\n",
        "    # Creem el diccionari de dades amb les noves dades que volem introduir\n",
        "    new_data = {'pickup_hour': data['tpep_pickup_datetime'].dt.hour,\n",
        "                'dropoff_hour': data['tpep_dropoff_datetime'].dt.hour,\n",
        "                'pickup_day': data['tpep_pickup_datetime'].dt.dayofweek,\n",
        "                'dropoff_day': data['tpep_dropoff_datetime'].dt.dayofweek,\n",
        "                'pickup_week': data['tpep_pickup_datetime'].dt.isocalendar().week,\n",
        "                'dropoff_week': data['tpep_dropoff_datetime'].dt.isocalendar().week,\n",
        "                'pickup_month': data['tpep_pickup_datetime'].dt.month,\n",
        "                'dropoff_month': data['tpep_dropoff_datetime'].dt.month,\n",
        "                'pickup_year': data['tpep_pickup_datetime'].dt.year,\n",
        "                'dropoff_year': data['tpep_dropoff_datetime'].dt.year,\n",
        "                'pickup_dayofyear': (data['tpep_pickup_datetime'].dt.dayofyear),\n",
        "                'dropoff_dayofyear': (data['tpep_dropoff_datetime'].dt.dayofyear),\n",
        "                'trip_duration': round(((data['tpep_dropoff_datetime'] - data['tpep_pickup_datetime']) / pd.Timedelta(hours=1)), 3)} # Changed np.timedelta64 to pd.Timedelta for clarity and common usage with pandas\n",
        "\n",
        "    # I els afegim al dataframe en qüestió\n",
        "    for k, v in new_data.items():\n",
        "        data[k] = v\n",
        "\n",
        "    # A continuació, creem i afegim la columna de velocitat a partir de les dades ja afegides.\n",
        "    # Només contemplem els valors que tinguin un trajecte mínim de 3 minuts. Altrament, apareixen valors 'inf' a causa del temps reduït.\n",
        "    data['speed'] = data['trip_distance'] / data.loc[data['trip_duration'] > 0.05, 'trip_duration']\n",
        "\n",
        "    return data"
      ]
    },
    {
      "cell_type": "markdown",
      "id": "systematic-slovakia",
      "metadata": {
        "id": "systematic-slovakia"
      },
      "source": [
        "Creem un nou dataset que contingui tota la informació dels anys: 2019, 2020, 2021.\n",
        "\n",
        "Recordeu que per tal de reduir la memòria necessària, agafem un subsample de dades."
      ]
    },
    {
      "cell_type": "code",
      "execution_count": null,
      "id": "suspended-suicide",
      "metadata": {
        "tags": [],
        "id": "suspended-suicide"
      },
      "outputs": [],
      "source": [
        "df = pd.concat([post_processing(clean_data(load_table(year, month), year, month, 1000)) for year in tqdm(YEARS, leave = False) for month in tqdm(range(1, 13), leave = False)])"
      ]
    },
    {
      "cell_type": "code",
      "execution_count": null,
      "id": "silver-telescope",
      "metadata": {
        "id": "silver-telescope"
      },
      "outputs": [],
      "source": [
        "df.head(10)"
      ]
    },
    {
      "cell_type": "markdown",
      "id": "loving-karen",
      "metadata": {
        "id": "loving-karen"
      },
      "source": [
        "## 02. Visualització per anys (Gràfic de Barres)"
      ]
    },
    {
      "cell_type": "markdown",
      "id": "liquid-plasma",
      "metadata": {
        "id": "liquid-plasma"
      },
      "source": [
        "\n",
        "Podem respondre directament la pregunta: **¿Ha incrementat / disminuït la covid la quantitat de viatges fets amb taxis?**\n",
        "\n",
        "Per respondre aquesta pregunta pots crear un gràfic de barres on es visualitzin la quantitat de viatges per any.\n"
      ]
    },
    {
      "cell_type": "markdown",
      "source": [
        "\n",
        "\n",
        "### Exercici 2\n",
        "\n",
        "Completar la funció `bar_plot` per tal que generi un gràfic de barres.\n",
        "Aquest gràfic ha de representar el **nombre de registres (o viatges)** per cada\n",
        "`pickup_year` (any de recollida). Per a fer el recompte, podeu utilitzar qualsevol\n",
        "columna no nul·la, per exemple, `passenger_count`.\n",
        "\n",
        "**La funció ha de seguir aquests passos i assignar els resultats a noves variables per a claredat:**\n",
        "\n",
        "1.  **Crear una figura i un eix:** Inicialitza la figura i l'eix per al gràfic.\n",
        "2.  **Agrupar les dades i comptar:** Agrupa el DataFrame `df` per `pickup_year` i\n",
        "    compta el nombre de registres per a la `column` especificada (o qualsevol columna\n",
        "    adequada per al recompte, com ara `passenger_count`). Assigna el resultat a una variable\n",
        "    (p. ex., `yearly_counts`).\n",
        "3.  **Generar el gràfic de barres:** Utilitza el mètode `plot.bar()` sobre les dades\n",
        "    agregades per crear el gràfic, passant els arguments `xlabel`, `ylabel` i `title`.\n"
      ],
      "metadata": {
        "id": "jezgZ2CLZIWN"
      },
      "id": "jezgZ2CLZIWN"
    },
    {
      "cell_type": "code",
      "execution_count": null,
      "id": "corrected-washer",
      "metadata": {
        "id": "corrected-washer"
      },
      "outputs": [],
      "source": [
        "import matplotlib.pyplot as plt\n",
        "import pandas as pd\n",
        "\n",
        "def bar_plot(df, column, xlabel, ylabel, title):\n",
        "    \"\"\"\n",
        "    Genera un gràfic de barres per visualitzar la quantitat de viatges per any.\n",
        "\n",
        "    Args:\n",
        "        df (pd.DataFrame): El DataFrame d'entrada amb les dades dels trajectes de taxi.\n",
        "        column (str): The column to count for each year (e.g., 'passenger_count').\n",
        "        xlabel (str): Etiqueta per a l'eix X del gràfic.\n",
        "        ylabel (str): Etiqueta per a l'eix Y del gràfic.\n",
        "        title (str): Títol del gràfic.\n",
        "    \"\"\"\n",
        "\n",
        "    fig, ax = plt.subplots(figsize=(15,7))\n",
        "\n",
        "    # TODO Agrupem per l'any de recollida i comptem els registres i generem gràfic de barres\n",
        "    # Pista: Utilitza .groupby() amb 'pickup_year' i després .count() sobre la columna especifica\n",
        "\n",
        "    raise NotImplementedError\n"
      ]
    },
    {
      "cell_type": "code",
      "execution_count": null,
      "id": "expressed-campbell",
      "metadata": {
        "tags": [],
        "id": "expressed-campbell"
      },
      "outputs": [],
      "source": [
        "# TODO: Visualitza el gràfic de barres"
      ]
    },
    {
      "cell_type": "markdown",
      "id": "polish-davis",
      "metadata": {
        "id": "polish-davis"
      },
      "source": [
        "**Pregunta: És el comportament que esperàveu? Per què?**"
      ]
    },
    {
      "cell_type": "markdown",
      "source": [],
      "metadata": {
        "id": "7XcQQr-06eNQ"
      },
      "id": "7XcQQr-06eNQ"
    },
    {
      "cell_type": "markdown",
      "id": "artistic-decrease",
      "metadata": {
        "id": "artistic-decrease"
      },
      "source": [
        "\n",
        "\n",
        "### Exercici 3\n",
        "\n",
        "Ara, visualitzarem **quants passatgers hi ha per taxi i per any**.\n",
        "\n",
        "\n",
        "Implementa la funció `passengers_taxi_year` per tal que generi gràfics de barres\n",
        "que mostrin el nombre de viatges segons la quantitat de passatgers (`passenger_count`)\n",
        "per cada any (`pickup_year`). La funció ha de ser capaç de generar tant gràfics\n",
        "amb els valors absoluts com gràfics normalitzats (percentatges).\n",
        "\n",
        "**La funció ha de seguir aquests passos i assignar els resultats a noves variables per a claredat:**\n",
        "\n",
        "1.  **Crear una figura amb subgràfics:** Per a cada any, es vol un gràfic separat que\n",
        "    mostri la distribució de passatgers.\n",
        "2.  **Agrupar les dades i comptar:** Cal agrupar el DataFrame `df` per `passenger_count`\n",
        "    i `pickup_year` per obtenir el recompte de viatges per cada combinació. Assigna el resultat\n",
        "    a una variable (p. ex., `counts_grouped`).\n",
        "3.  **Desapilar les dades:** Transforma les dades agrupades per tenir els anys com a columnes.\n",
        "    Assigna el resultat a una variable (p. ex., `counts_unstacked`).\n",
        "4.  **Gestionar la normalització:**\n",
        "    * Si el paràmetre `norm` és `True`, normalitza les dades desagrupades de manera que\n",
        "        la suma de les barres per a cada any sigui 1 (o 100%). Assigna el resultat a una variable\n",
        "        (p. ex., `normalized_data`).\n",
        "    * Si `norm` és `False` (valor per defecte), utilitza les dades desagrupades directament.\n",
        "5.  **Generar els gràfics de barres:** Utilitzar `plot.bar()` sobre el DataFrame final per\n",
        "    visualitzar les dades, passant els arguments `xlabel`, `ylabel`, `ylim`, `title` i `subplots=True`.\n",
        "\n",
        "---\n",
        "\n",
        "### Pistes per completar el codi\n",
        "\n",
        "* **Agrupació i recompte:** Utilitza `.groupby(['col1', 'col2'])['col_to_count'].count()`.\n",
        "* **Desapilar:** Aplica `.unstack()` al resultat de l'agrupació per pivotar els anys a columnes.\n",
        "* **Normalització:** Per normalitzar cada columna (any) de forma independent, pots fer\n",
        "    `df_unstacked.transform(lambda x: x / x.sum())`.\n"
      ]
    },
    {
      "cell_type": "code",
      "execution_count": null,
      "id": "executed-chaos",
      "metadata": {
        "id": "executed-chaos"
      },
      "outputs": [],
      "source": [
        "def passengers_taxi_year(df, ylim, xlabel, ylabel, title, norm = False):\n",
        "    \"\"\"\n",
        "    Args:\n",
        "        df (pd.DataFrame): El DataFrame d'entrada amb les dades dels trajectes de taxi.\n",
        "        ylim (tuple): Limits per a l'eix Y del gràfic.\n",
        "        xlabel (str): Etiqueta per a l'eix X del gràfic.\n",
        "        ylabel (str): Etiqueta per a l'eix Y del gràfic.\n",
        "        title (str): Títol del gràfic.\n",
        "        norm (bool, optional): Si és True, normalitza els resultats a percentatges. Per defecte és False.\n",
        "    \"\"\"\n",
        "    # TODO\n",
        "    # Pas 1: Agrupem les dades per passatgers i any, i comptem els viatges\n",
        "    # Pista: Utilitza .groupby() i .count().\n",
        "\n",
        "    # Pas 2: Desapilem les dades per tenir els anys com a columnes\n",
        "    # Pista: Aplica .unstack() al resultat de l'agrupació.\n",
        "\n",
        "    # En cas que es vulgui normalitzat\n",
        "    # if norm:\n",
        "        # Pas 3: Normalitzem les dades desagrupades per tenir percentatges\n",
        "        # Pista: Utilitza .transform(lambda x: x / x.sum()) sobre counts_unstacked.\n",
        "        # Pas 4: Grafiquem el resultat normalitzat\n",
        "\n",
        "    # En cas que NO es vulgui normalitzat\n",
        "    # else:\n",
        "        # Pas 3b: Si no normalitzem, les dades a graficar són les mateixes que les desagrupades\n",
        "        # Pas 4: Grafiquem el resultat (comptes absoluts)"
      ]
    },
    {
      "cell_type": "code",
      "execution_count": null,
      "id": "mighty-population",
      "metadata": {
        "tags": [],
        "id": "mighty-population"
      },
      "outputs": [],
      "source": [
        "# TODO: Crida la funció per visualitzar el recompte de passatgers per any"
      ]
    },
    {
      "cell_type": "code",
      "execution_count": null,
      "id": "clear-charles",
      "metadata": {
        "tags": [],
        "id": "clear-charles"
      },
      "outputs": [],
      "source": [
        "# TODO: Crida la funció per visualitzar el recompte de passatgers per any en percentatge"
      ]
    },
    {
      "cell_type": "markdown",
      "id": "suspended-regular",
      "metadata": {
        "id": "suspended-regular"
      },
      "source": [
        "A la figura anterior hem visualitzat cada any per separat. Per tal que la visualització sigui més ràpida i simple d'interpretar, unim tota la informació en un gràfic."
      ]
    },
    {
      "cell_type": "code",
      "execution_count": null,
      "id": "retained-rotation",
      "metadata": {
        "id": "retained-rotation"
      },
      "outputs": [],
      "source": [
        "def passengers_taxi(df, xlabel, ylabel, norm = False):\n",
        "    \"\"\"\n",
        "    Funció que visualitza quants passatgers hi ha per taxi\n",
        "\n",
        "    Args:\n",
        "        df (pd.DataFrame): El DataFrame d'entrada amb les dades dels trajectes de taxi.\n",
        "        xlabel (str): Etiqueta per a l'eix X del gràfic.\n",
        "        ylabel (str): Etiqueta per a l'eix Y del gràfic.\n",
        "        norm (bool, optional): Si és True, normalitza els resultats a percentatges. Per defecte és False.\n",
        "    \"\"\"\n",
        "    fig, ax = plt.subplots(figsize=(15,8))\n",
        "\n",
        "    if norm:\n",
        "        df.groupby(['passenger_count','pickup_year'])['pickup_year'].count().unstack().transform(lambda x: x/x.sum()).plot.bar(ax=ax, xlabel=xlabel, ylabel=ylabel, subplots=False, grid=False)\n",
        "\n",
        "    else:\n",
        "        df.groupby(['passenger_count','pickup_year'])['pickup_year'].count().unstack().plot.bar(ax=ax, xlabel=xlabel, ylabel=ylabel, subplots=False, grid=False)\n",
        "\n",
        "    fig.suptitle(\"Passatgers per taxi\")"
      ]
    },
    {
      "cell_type": "code",
      "execution_count": null,
      "id": "tired-surrey",
      "metadata": {
        "tags": [],
        "id": "tired-surrey"
      },
      "outputs": [],
      "source": [
        "# TODO: Crida la funció per visualitzar el recompte de passatgers per any"
      ]
    },
    {
      "cell_type": "code",
      "execution_count": null,
      "id": "reflected-system",
      "metadata": {
        "tags": [],
        "id": "reflected-system"
      },
      "outputs": [],
      "source": [
        "# TODO: Crida la funció per visualitzar el recompte de passatgers per any  en percentatge"
      ]
    },
    {
      "cell_type": "markdown",
      "id": "rolled-graphic",
      "metadata": {
        "id": "rolled-graphic"
      },
      "source": [
        "**Pregunta: Quin impacte heu vist sobre les dades? Creieu que la covid va tenir molt impacte?**"
      ]
    },
    {
      "cell_type": "markdown",
      "source": [],
      "metadata": {
        "id": "4jGjS2nc6hQJ"
      },
      "id": "4jGjS2nc6hQJ"
    },
    {
      "cell_type": "code",
      "execution_count": null,
      "id": "pregnant-value",
      "metadata": {
        "id": "pregnant-value"
      },
      "outputs": [],
      "source": []
    },
    {
      "cell_type": "markdown",
      "id": "desirable-activation",
      "metadata": {
        "id": "desirable-activation"
      },
      "source": [
        "## 03. Quantitat de viatges\n",
        "\n",
        "Fins ara hem vist la quantitat de viatges que hi ha hagut en els anys estudiats.\n",
        "\n",
        "Anem a estudiar quins canvis es poden veure si agreguem les dades per hores, dies de la setmana, setmana de l'any i mes.\n",
        "\n",
        "Aquests gràfics han de ser de línies discontínues i marcar amb una rodona o creu allà on està el valor"
      ]
    },
    {
      "cell_type": "code",
      "execution_count": null,
      "id": "veterinary-window",
      "metadata": {
        "id": "veterinary-window"
      },
      "outputs": [],
      "source": [
        "def visualize_trips(df, columns, title, xlabel, ylabel):\n",
        "    \"\"\"\n",
        "    Funció que visualitza els viatges per diferents agregacions de dades\n",
        "    :param df: DataFrame amb les dades dels viatges.\n",
        "    :param column: Columna on estan les dades d'interès\n",
        "    :param title: Titol de la figura\n",
        "    :param xlabel: Etiqueta de l'eix X\n",
        "    :param ylabel: Etiqueta de l'eix Y\n",
        "    \"\"\"\n",
        "    days_order = ['Monday', 'Tuesday', 'Wednesday', 'Thursday', 'Friday', 'Saturday', 'Sunday']\n",
        "\n",
        "    fig, axs = plt.subplots(1, 2, figsize = (15, 3), sharey = True)\n",
        "    # Per cada columna en column_data\n",
        "    for column, ax in zip(columns, axs):\n",
        "      # Per cada any a Years\n",
        "      for year in YEARS:\n",
        "        # Filtrar les dades per column i any\n",
        "        counts = df.loc[df.pickup_year == year, column].value_counts().sort_index()\n",
        "\n",
        "        # Reordenem en el cas de dies de la setmana\n",
        "        if set(counts.index).issubset(set(days_order)):\n",
        "          counts = counts.reindex(days_order)\n",
        "\n",
        "        # Fer el 'plt.plot' i el 'plt.scatter'\n",
        "        ax.plot(counts.index, counts.values)\n",
        "        ax.scatter(counts.index, counts.values, marker = 'x', label = year)\n",
        "        ax.legend()\n",
        "        ax.set_xlabel(xlabel)\n",
        "        ax.set_ylabel(ylabel)\n",
        "        ax.set_title(column)\n",
        "\n",
        "    plt.suptitle(title)\n",
        "    plt.show()"
      ]
    },
    {
      "cell_type": "code",
      "execution_count": null,
      "id": "military-chester",
      "metadata": {
        "tags": [],
        "id": "military-chester"
      },
      "outputs": [],
      "source": [
        "visualize_trips(df, ['pickup_hour', 'dropoff_hour'], title = 'Quantitat de viatges per hora', xlabel = 'Hora del dia', ylabel = 'Quanitat')"
      ]
    },
    {
      "cell_type": "code",
      "execution_count": null,
      "id": "communist-region",
      "metadata": {
        "tags": [],
        "id": "communist-region"
      },
      "outputs": [],
      "source": [
        "visualize_trips(df, ['pickup_day', 'dropoff_day'], title = 'Quantitat de viatges per dia de la setmana', xlabel = 'Dia de la setmana', ylabel = 'Quanitat')"
      ]
    },
    {
      "cell_type": "code",
      "execution_count": null,
      "id": "amazing-battlefield",
      "metadata": {
        "tags": [],
        "id": "amazing-battlefield"
      },
      "outputs": [],
      "source": [
        "visualize_trips(df, ['pickup_week', 'dropoff_week'], title = 'Quantitat de viatges per setmana de l\\'any', xlabel = 'Setmana de l\\'any', ylabel = 'Quanitat')"
      ]
    },
    {
      "cell_type": "code",
      "execution_count": null,
      "id": "digital-primary",
      "metadata": {
        "tags": [],
        "id": "digital-primary"
      },
      "outputs": [],
      "source": [
        "visualize_trips(df,['pickup_month', 'dropoff_month'], title = 'Quantitat de viatges per mes', xlabel = 'Mes de l\\'any', ylabel = 'Quanitat')"
      ]
    },
    {
      "cell_type": "markdown",
      "id": "sapphire-cement",
      "metadata": {
        "id": "sapphire-cement"
      },
      "source": [
        "**Pregunta: Quins comportaments veieu en cada cas? Quin creieu que és el motiu?**"
      ]
    },
    {
      "cell_type": "code",
      "execution_count": null,
      "id": "accessory-hampshire",
      "metadata": {
        "id": "accessory-hampshire"
      },
      "outputs": [],
      "source": []
    },
    {
      "cell_type": "markdown",
      "id": "separated-strip",
      "metadata": {
        "id": "separated-strip"
      },
      "source": [
        "## 04. Relació distancia - temps i velocitat\n",
        "\n",
        "A les dades tenim la distància que ha recorregut el taxi en cada viatge i de la informació temporal podem extreure també la duració d'aquest.\n",
        "\n",
        "\n",
        "Intentarem esbrinar com la covid va afectar les distàncies i les durades dels viatges juntament amb la velocitat dels taxis.\n",
        "\n",
        "Creieu que la densitat de trànsit va variar?"
      ]
    },
    {
      "cell_type": "markdown",
      "id": "academic-riding",
      "metadata": {
        "id": "academic-riding"
      },
      "source": [
        "### Histogrames\n",
        "\n",
        "Per començar visualitza els **histogrames** de distància i durada per any.\n",
        "\n",
        "Pots fer servir la funció *plt.hist()* o *plt.bar()*."
      ]
    },
    {
      "cell_type": "code",
      "execution_count": null,
      "id": "killing-premises",
      "metadata": {
        "id": "killing-premises"
      },
      "outputs": [],
      "source": [
        "def visualize_histograms(df, column, title, xlabel, ylabel, xlim):\n",
        "    \"\"\"\n",
        "    Funció que crea un histograma a partir de la informació que conté la columna del dataframe\n",
        "\n",
        "    Args:\n",
        "        df (pd.DataFrame): El DataFrame d'entrada amb les dades dels trajectes de taxi.\n",
        "        column (str): The column to create a histogram from.\n",
        "        title (str): Títol de l'histograma.\n",
        "        xlabel (str): Etiqueta per a l'eix X de l'histograma.\n",
        "        ylabel (str): Etiqueta per a l'eix Y de l'histograma.\n",
        "        xlim (tuple): Limits per a l'eix X de l'histograma.\n",
        "    \"\"\"\n",
        "    # TODO: Implement histogram\n",
        "    raise NotImplementedError"
      ]
    },
    {
      "cell_type": "code",
      "execution_count": null,
      "id": "emerging-bookmark",
      "metadata": {
        "tags": [],
        "id": "emerging-bookmark"
      },
      "outputs": [],
      "source": [
        "visualize_histograms(df, 'trip_distance', title = 'Distancia dels viatge per any',\n",
        "                     xlabel = 'Distancia (km)', ylabel = 'Quanitat', xlim = (-5, 20))\n",
        "\n",
        "visualize_histograms(df, 'trip_duration', title = 'Durada dels viatge per any', xlabel = 'Duració (h)', ylabel = 'Quanitat', xlim = (-1, 5))"
      ]
    },
    {
      "cell_type": "markdown",
      "id": "explicit-hydrogen",
      "metadata": {
        "id": "explicit-hydrogen"
      },
      "source": [
        "**PREGUNTES:**\n",
        "\n",
        "* Com creieu que la covid va afectar les distàncies i durades dels viatges?\n",
        "\n",
        "* I a la velocitat dels taxis?"
      ]
    },
    {
      "cell_type": "code",
      "execution_count": null,
      "id": "organic-synthetic",
      "metadata": {
        "id": "organic-synthetic"
      },
      "outputs": [],
      "source": []
    },
    {
      "cell_type": "markdown",
      "id": "animated-mexican",
      "metadata": {
        "tags": [],
        "id": "animated-mexican"
      },
      "source": [
        "### Gràfic de dispersió i correlació\n",
        "\n",
        "Crea gràfics de dispersió per il·lustrar la relació entre la durada i la distància dels viatges.\n",
        "\n",
        "Es possible que les dades continguin mostres fora la distribució (outliers). En aquest cas, omet aquestes dades i torna a visualitzar el grafic.\n",
        "\n",
        "Per veure si existeix alguna correlació, es interesant que utilitzeu la funció *sns.regplot()*."
      ]
    },
    {
      "cell_type": "code",
      "execution_count": null,
      "id": "stretch-sally",
      "metadata": {
        "id": "stretch-sally"
      },
      "outputs": [],
      "source": [
        "def scatter_plot(df, x_value, y_value, xlabel, ylabel, remove_outliers = False):\n",
        "    \"\"\"\n",
        "    Funció que mostra un scatter plot donades dues dades\n",
        "    :param df: DataFrame amb les dades dels viatges.\n",
        "    :param x_value: Nom de la columna on estan els valors\n",
        "    :param y_value: Nom de la columna on estan els valors\n",
        "    :param xlabel: Etiqueta de l'eix X\n",
        "    :param ylabel: Etiqueta de l'eix Y\n",
        "    :param remove_outliers:\n",
        "    \"\"\"\n",
        "\n",
        "    def remove(df, column):\n",
        "      # Suposem que es volen eliminar outliers més enllà de 2 desviacions estàndard per la columna d'interès\n",
        "      mean_val = df[column].mean()\n",
        "      std_val = df[column].std()\n",
        "      df = df[(df[column] > mean_val - 2 * std_val) & (df[column] < mean_val + 2 * std_val)]\n",
        "      return df\n",
        "\n",
        "    # Eliminar outliers\n",
        "    if remove_outliers:\n",
        "      df = remove(df, x_value)\n",
        "      df = remove(df, y_value)\n",
        "\n",
        "    fig, axs = plt.subplots(1, len(YEARS), figsize = (18, 3), sharey=True)\n",
        "\n",
        "    # Per cada any\n",
        "    for year, ax in zip(YEARS, axs):\n",
        "      # Filter\n",
        "      df_year = df[df.pickup_year == year]\n",
        "      # Scatter\n",
        "      ax.scatter(df_year.trip_distance, df_year.trip_duration, alpha = 0.5)\n",
        "      # Add regression\n",
        "      sns.regplot(x = df_year.trip_distance, y = df_year.trip_duration, ax = ax, color='r',scatter=False,)\n",
        "\n",
        "    plt.show()\n"
      ]
    },
    {
      "cell_type": "code",
      "execution_count": null,
      "id": "divided-commissioner",
      "metadata": {
        "tags": [],
        "id": "divided-commissioner"
      },
      "outputs": [],
      "source": [
        "scatter_plot(df, 'trip_distance', 'trip_duration', 'Distancia (km)', 'Temps (h)')"
      ]
    },
    {
      "cell_type": "code",
      "execution_count": null,
      "id": "first-olympus",
      "metadata": {
        "tags": [],
        "id": "first-olympus"
      },
      "outputs": [],
      "source": [
        "scatter_plot(df, 'trip_distance', 'trip_duration', 'Distancia (km)', 'Temps (h)', True)"
      ]
    },
    {
      "cell_type": "markdown",
      "id": "catholic-quest",
      "metadata": {
        "id": "catholic-quest"
      },
      "source": [
        "**Pregunta: Pots veure alguna relació? Pots calcular la correlació entre les dades per treure més informació?**"
      ]
    },
    {
      "cell_type": "code",
      "execution_count": null,
      "id": "stone-neighborhood",
      "metadata": {
        "id": "stone-neighborhood"
      },
      "outputs": [],
      "source": []
    },
    {
      "cell_type": "markdown",
      "id": "palestinian-buffalo",
      "metadata": {
        "id": "palestinian-buffalo"
      },
      "source": [
        "Tal com fèiem a l'apartat 3, visualitzeu les dades temporals i de distància a partir de les setmanes, i mesos de l'any."
      ]
    },
    {
      "cell_type": "code",
      "execution_count": null,
      "id": "german-graham",
      "metadata": {
        "id": "german-graham"
      },
      "outputs": [],
      "source": [
        "def visualize_per_period(df, column_data, columns, xlabel, ylabel, title):\n",
        "    \"\"\"\n",
        "    Funció que visualitza la distància / duració dels trajectes en un temps a determinar\n",
        "    :param df: DataFrame amb les dades dels viatges.\n",
        "    :param column_data: Nom de la columna on estan els valors\n",
        "    :param columns: Nom de les columnes (pickup, dropoff)\n",
        "    :param xlabel: Etiqueta de l'eix X\n",
        "    :param ylabel: Etiqueta de l'eix Y\n",
        "    :param title: Títol de la figura\n",
        "    \"\"\"\n",
        "\n",
        "    fig, axs = plt.subplots(1, len(columns), figsize = (15, 3), sharey=True)\n",
        "    # Per cada columna de column_data\n",
        "    for column, ax in zip(columns, axs):\n",
        "\n",
        "      # Utilitzem groupby + unstack  o  pivot_table\n",
        "      # OPCIO 1\n",
        "      group = df.groupby(['pickup_year', column]).mean(numeric_only = True)[column_data].unstack()\n",
        "\n",
        "      # OPCIO 2\n",
        "      # group = df.pivot_table(index = 'year', columns = 'pickup_week', values = 'trip_distance', aggfunc = 'mean')\n",
        "\n",
        "      # per cada any\n",
        "      for year in YEARS:\n",
        "        # filtratge + plot + scatter\n",
        "        ax.scatter(group.loc[year].index, group.loc[year].values, label = year)\n",
        "        # group.loc[group.index == year].index\n",
        "        ax.plot(group.loc[year].index, group.loc[year].values, alpha = 0.5)\n",
        "        ax.legend()\n",
        "      ax.set_title(column)\n",
        "      ax.set_xlabel(xlabel)\n",
        "      ax.set_ylabel(ylabel)"
      ]
    },
    {
      "cell_type": "code",
      "execution_count": null,
      "id": "judicial-breast",
      "metadata": {
        "tags": [],
        "id": "judicial-breast"
      },
      "outputs": [],
      "source": [
        "visualize_per_period(df, 'trip_distance', columns = ['pickup_week', 'dropoff_week'],\n",
        "                    xlabel = 'Setmana de l\\'any', ylabel = 'Distancia mitjana (km)', title = 'Distancia dels viatges per setmanes')"
      ]
    },
    {
      "cell_type": "code",
      "execution_count": null,
      "id": "banned-panama",
      "metadata": {
        "tags": [],
        "id": "banned-panama"
      },
      "outputs": [],
      "source": [
        "visualize_per_period(df, 'trip_distance', columns = ['pickup_month', 'dropoff_month'],\n",
        "                     xlabel = 'Mes de l\\'any', ylabel = 'Distancia mitjana (km)', title = 'Distancia dels viatges per mesos')"
      ]
    },
    {
      "cell_type": "code",
      "execution_count": null,
      "id": "central-ratio",
      "metadata": {
        "tags": [],
        "id": "central-ratio"
      },
      "outputs": [],
      "source": [
        "visualize_per_period(df, 'trip_duration', columns = ['pickup_week', 'dropoff_week'],\n",
        "                     xlabel = 'Setmana de l\\'any', ylabel = 'Durada mitjana (h)', title = 'Durada dels viatges per setmanes')"
      ]
    },
    {
      "cell_type": "code",
      "execution_count": null,
      "id": "thousand-madison",
      "metadata": {
        "tags": [],
        "id": "thousand-madison"
      },
      "outputs": [],
      "source": [
        "visualize_per_period(df, 'trip_duration', columns = ['pickup_month', 'dropoff_month'],\n",
        "                     xlabel = 'Mes de l\\'any', ylabel = 'Durada mitjana (h)', title = 'Durada dels viatges per mesos')"
      ]
    },
    {
      "cell_type": "markdown",
      "id": "grateful-captain",
      "metadata": {
        "id": "grateful-captain"
      },
      "source": [
        "**Pregunta: Hi ha algun comportament estrany a part de la covid? Per què pot ser causat?**\n",
        "  "
      ]
    },
    {
      "cell_type": "code",
      "execution_count": null,
      "id": "hungry-portsmouth",
      "metadata": {
        "id": "hungry-portsmouth"
      },
      "outputs": [],
      "source": []
    },
    {
      "cell_type": "markdown",
      "id": "strange-forum",
      "metadata": {
        "id": "strange-forum"
      },
      "source": [
        "Fins ara hem mostrat les dades de manera agregada.\n",
        "\n",
        "Per tal de visualitzar-ho de manera global, utilitzarem la funció *plt.imshow()* que visualitza imatges i, per tant, matrius."
      ]
    },
    {
      "cell_type": "markdown",
      "id": "humanitarian-tiffany",
      "metadata": {
        "id": "humanitarian-tiffany"
      },
      "source": [
        "Implementa una funció que visualitzi per any:\n",
        "\n",
        "- un mapa de calor que indiqui a quina hora del dia hi ha viatges més llargs durant l'any.\n",
        "- un mapa de calor que indiqui a quina hora del dia hi ha viatges més llargs durant la setmana."
      ]
    },
    {
      "cell_type": "code",
      "execution_count": null,
      "id": "psychological-burden",
      "metadata": {
        "id": "psychological-burden"
      },
      "outputs": [],
      "source": [
        "import pandas as pd\n",
        "import matplotlib.pyplot as plt\n",
        "\n",
        "def heatmap(df, group, column_data, xlabel, ylabel, columns=None):\n",
        "    \"\"\"\n",
        "    Funció que agrega les dades de manera adient per visualitzar un mapa de calor.\n",
        "\n",
        "    Args:\n",
        "        df (pd.DataFrame): El DataFrame d'entrada amb les dades dels trajectes de taxi.\n",
        "        group (list): Una llista de noms de columnes per agrupar per a l'agregació.\n",
        "        column_data (str): La columna que conté les dades a agregar (per exemple, 'trip_duration').\n",
        "        xlabel (str): Etiqueta per a l'eix X del mapa de calor.\n",
        "        ylabel (str): Etiqueta per a l'eix Y del mapa de calor.\n",
        "        columns (list, optional): Una llista d'etiquetes per a les marques de l'eix Y. Per defecte és None.\n",
        "    \"\"\"\n",
        "    # Agreguem les dades per any i el grup especificat, i desagrupem els anys a columnes\n",
        "    aggregated_data = df.groupby(['pickup_year'] + group)[column_data].sum().unstack(level=0)\n",
        "\n",
        "    # Calculem els valors mínim i màxim per a la barra de color\n",
        "    vmin = aggregated_data.min().min()\n",
        "    vmax = aggregated_data.max().max()\n",
        "\n",
        "    # Determinem els anys a plotar (assumint 2019, 2020, 2021 com els més probables)\n",
        "    years_to_plot = sorted([year for year in df['pickup_year'].unique() if year >= 2019])[:3]\n",
        "\n",
        "    # Ajustem l'alçada de la figura si hi ha moltes categories a l'eix Y\n",
        "    fig_height = 6 if columns is None or len(columns) <= 10 else 18\n",
        "    fig, ax = plt.subplots(nrows=len(years_to_plot), ncols=1, figsize=(20, fig_height), layout='constrained')\n",
        "\n",
        "    # Assegurem que 'ax' sigui sempre una llista per facilitar la iteració\n",
        "    if len(years_to_plot) == 1:\n",
        "        ax = [ax]\n",
        "\n",
        "    # Iterem sobre cada any per crear un subplot\n",
        "    for i, year in enumerate(years_to_plot):\n",
        "        current_year_data = aggregated_data[year]\n",
        "\n",
        "        # Preparem les dades per a imshow, transposant si cal per l'eix Y\n",
        "        plot_data = current_year_data.unstack().T if columns is not None else current_year_data.unstack()\n",
        "        im = ax[i].imshow(plot_data, vmin=vmin, vmax=vmax, interpolation='nearest', cmap='jet', aspect='auto')\n",
        "\n",
        "        # Configurem títols i etiquetes\n",
        "        ax[i].set_title(str(year))\n",
        "        ax[i].set_xlabel(xlabel)\n",
        "        ax[i].set_ylabel(ylabel)\n",
        "        ax[i].grid(False)\n",
        "\n",
        "        # Si s'especifiquen columnes, assignem les marques i etiquetes de l'eix Y\n",
        "        if columns is not None:\n",
        "            ax[i].set_yticks(range(len(columns)))\n",
        "            ax[i].set_yticklabels(columns)\n",
        "\n",
        "    # Afegim una barra de color global\n",
        "    fig.colorbar(im, ax=ax, label=\"Suma de: \" + column_data, shrink=0.7)\n",
        "\n",
        "    plt.show()"
      ]
    },
    {
      "cell_type": "code",
      "execution_count": null,
      "id": "binding-tobacco",
      "metadata": {
        "tags": [],
        "id": "binding-tobacco"
      },
      "outputs": [],
      "source": [
        "heatmap(df, ['pickup_hour', 'pickup_dayofyear'], 'trip_duration', 'Dies de l\\'any', 'Hores del dia')"
      ]
    },
    {
      "cell_type": "code",
      "execution_count": null,
      "id": "experimental-sample",
      "metadata": {
        "tags": [],
        "id": "experimental-sample"
      },
      "outputs": [],
      "source": [
        "heatmap(df, ['pickup_hour', 'pickup_day'], 'trip_duration', 'Hores del dia', 'Dies de la setmana', ['Monday', 'Tuesday', 'Wednesday', 'Thursday', 'Friday', 'Saturday', 'Sunday'])"
      ]
    },
    {
      "cell_type": "markdown",
      "id": "regulated-supervision",
      "metadata": {
        "tags": [],
        "id": "regulated-supervision"
      },
      "source": [
        "Repeteix els gràfics anteriors visualitzant la distancia."
      ]
    },
    {
      "cell_type": "code",
      "execution_count": null,
      "id": "curious-remark",
      "metadata": {
        "id": "curious-remark"
      },
      "outputs": [],
      "source": [
        "heatmap(df, ['pickup_hour', 'pickup_dayofyear'], 'trip_distance', 'Dies de l\\'any', 'Hores del dia')"
      ]
    },
    {
      "cell_type": "code",
      "execution_count": null,
      "id": "judicial-vancouver",
      "metadata": {
        "tags": [],
        "id": "judicial-vancouver"
      },
      "outputs": [],
      "source": [
        "heatmap(df, ['pickup_hour', 'pickup_day'], 'trip_distance', 'Hores del dia', 'Dies de la setmana', ['Monday', 'Tuesday', 'Wednesday', 'Thursday', 'Friday', 'Saturday', 'Sunday'])"
      ]
    },
    {
      "cell_type": "markdown",
      "id": "intermediate-paint",
      "metadata": {
        "id": "intermediate-paint"
      },
      "source": [
        "**Pregunta: Quines conclusions treieu dels mapes de calor?**\n"
      ]
    },
    {
      "cell_type": "markdown",
      "source": [
        "## 05. Visualitzem les localitzacions dels viatges"
      ],
      "metadata": {
        "id": "7kElKVJnuedv"
      },
      "id": "7kElKVJnuedv"
    },
    {
      "cell_type": "markdown",
      "source": [
        "### Funcions d'ajuda per visualitzar dades geogràfiques"
      ],
      "metadata": {
        "id": "725yj6aBt8n_"
      },
      "id": "725yj6aBt8n_"
    },
    {
      "cell_type": "code",
      "source": [
        "# Helper functions for visualization\n",
        "import geopandas as gpd\n",
        "import matplotlib.pyplot as plt\n",
        "import numpy as np\n",
        "import pandas as pd\n",
        "import math\n",
        "import matplotlib as mpl\n",
        "\n",
        "def get_lat_lon(gdf, col_id):\n",
        "    \"\"\"\n",
        "    Calcula la latitud i longitud dels centroides de les geometries en un GeoDataFrame.\n",
        "\n",
        "    Args:\n",
        "        gdf (geopandas.GeoDataFrame): El GeoDataFrame d'entrada amb les geometries.\n",
        "        col_id (str): El nom de la columna que conté els identificadors de localització.\n",
        "\n",
        "    Returns:\n",
        "        pd.DataFrame: Un DataFrame amb els identificadors de localització, longituds i latituds dels centroides.\n",
        "    \"\"\"\n",
        "    content = []\n",
        "    for _, row in gdf.iterrows():\n",
        "        centroid = row.geometry.centroid\n",
        "        content.append((row[col_id], centroid.x, centroid.y))\n",
        "    return pd.DataFrame(content, columns=[\"LocationID\", \"longitude\", \"latitude\"])"
      ],
      "metadata": {
        "id": "Y1BpJarAwSWI"
      },
      "id": "Y1BpJarAwSWI",
      "execution_count": null,
      "outputs": []
    },
    {
      "cell_type": "code",
      "source": [
        "def get_boundaries(gdf):\n",
        "    \"\"\"\n",
        "    Calcula els límits totals d'un GeoDataFrame.\n",
        "\n",
        "    Args:\n",
        "        gdf (geopandas.GeoDataFrame): El GeoDataFrame d'entrada.\n",
        "\n",
        "    Returns:\n",
        "        tuple: Una tupla (lat_min, lat_max, lon_min, lon_max) representant els límits.\n",
        "    \"\"\"\n",
        "    bounds = gdf.total_bounds  # [minx, miny, maxx, maxy]\n",
        "    margin = 0.01\n",
        "    lat_min, lon_min, lat_max, lon_max = bounds[0] - margin, bounds[1] - margin, bounds[2] + margin, bounds[3] + margin\n",
        "    return lat_min, lat_max, lon_min, lon_max"
      ],
      "metadata": {
        "id": "HpubZTKhwgB_"
      },
      "id": "HpubZTKhwgB_",
      "execution_count": null,
      "outputs": []
    },
    {
      "cell_type": "code",
      "source": [
        "def draw_zone_map(ax, gdf, col_id, col_zone, col_area, heat={}, text=[], arrows=[]):\n",
        "    \"\"\"\n",
        "    Dibuixa un mapa de zones de taxi amb opcions per a mapa de calor, text i fletxes.\n",
        "\n",
        "    Args:\n",
        "        ax (matplotlib.axes.Axes): L'eix de matplotlib on dibuixar el mapa.\n",
        "        gdf (geopandas.GeoDataFrame): El GeoDataFrame amb les geometries de les zones de taxi.\n",
        "        col_id (str): El nom de la columna que conté els identificadors de localització.\n",
        "        col_zone (str): El nom de la columna que conté els noms de les zones.\n",
        "        col_area (str): El nom de la columna que conté l'àrea de les geometries.\n",
        "        heat (dict, optional): Un diccionari on les claus són LocationIDs i els valors són les dades per al mapa de calor. Per defecte és un diccionari buit.\n",
        "        text (list, optional): Una llista de LocationIDs per etiquetar amb text. Per defecte és una llista buida.\n",
        "        arrows (list, optional): Una llista de diccionaris que descriuen les fletxes a dibuixar. Per defecte és una llista buida.\n",
        "    \"\"\"\n",
        "    continent = [235/256, 151/256, 78/256]\n",
        "    ocean = (89/256, 171/256, 227/256)\n",
        "    theta = np.linspace(0, 2*np.pi, len(text)+1).tolist()\n",
        "    ax.set_facecolor(ocean)\n",
        "\n",
        "    # Plot the base map or heatmap using gdf.plot\n",
        "    if heat:\n",
        "        # Create a temporary column for merging heat data\n",
        "        heat_df = pd.DataFrame(list(heat.items()), columns=[col_id, 'heat_value'])\n",
        "        merged_gdf = gdf.merge(heat_df, on=col_id, how='left')\n",
        "        merged_gdf['heat_value'] = merged_gdf['heat_value'].fillna(0) # Fill non-matching zones with 0 heat\n",
        "\n",
        "        norm = mpl.colors.Normalize(vmin=merged_gdf['heat_value'].min(), vmax=merged_gdf['heat_value'].max())\n",
        "        cmap = plt.get_cmap('Reds')\n",
        "        merged_gdf.plot(column='heat_value', ax=ax, cmap=cmap, edgecolor='black', linewidth=0.5, legend=False)\n",
        "\n",
        "        # Add color bar\n",
        "        sm = plt.cm.ScalarMappable(cmap=cmap, norm=norm)\n",
        "        sm.set_array([])\n",
        "        plt.colorbar(sm, ax=ax, orientation='vertical', label=\"Heat Value\") # Label for the color bar\n",
        "    else:\n",
        "        gdf.plot(ax=ax, facecolor=continent, edgecolor='black', linewidth=0.5)\n",
        "\n",
        "    # Handle text labels and arrows\n",
        "    if text:\n",
        "        df_text = get_lat_lon(gdf[gdf[col_id].isin(text)], col_id)\n",
        "        for _, row in df_text.iterrows():\n",
        "            loc_id = row[col_id]\n",
        "            zone = gdf[gdf[col_id] == loc_id][col_zone].iloc[0]\n",
        "            x, y = row['longitude'], row['latitude']\n",
        "\n",
        "            eta_x = 0.05 * np.cos(theta[text.index(loc_id)])\n",
        "            eta_y = 0.05 * np.sin(theta[text.index(loc_id)])\n",
        "            ax.annotate(f\"[{loc_id}] {zone}\", xy=(x, y), xytext=(x + eta_x, y + eta_y),\n",
        "                        bbox=dict(facecolor='black', alpha=0.5), color=\"white\", fontsize=12,\n",
        "                        arrowprops=dict(facecolor='black', width=3, shrink=0.05))\n",
        "    else:\n",
        "        # If no specific text labels, label larger zones\n",
        "        df_label = get_lat_lon(gdf[gdf[col_area] > 0.0001], col_id)\n",
        "        for _, row in df_label.iterrows():\n",
        "             ax.text(row['longitude'], row['latitude'], str(row[col_id]), ha='center', va='center')\n",
        "\n",
        "\n",
        "    for arr in arrows:\n",
        "        ax.annotate('', xy=arr['dest'], xytext=arr['src'], size=arr['cnt'],\n",
        "                    arrowprops=dict(arrowstyle=\"fancy\", fc=\"0.6\", ec=\"none\"))\n",
        "\n",
        "    lat_min, lat_max, lon_min, lon_max = get_boundaries(gdf)\n",
        "    ax.set_xlim(lat_min, lat_max)\n",
        "    ax.set_ylim(lon_min, lon_max)"
      ],
      "metadata": {
        "id": "i7xjOTCtwgEz"
      },
      "id": "i7xjOTCtwgEz",
      "execution_count": null,
      "outputs": []
    },
    {
      "cell_type": "code",
      "source": [
        "def draw_region_map(ax, gdf, col_borough, heat={}):\n",
        "    \"\"\"\n",
        "    Dibuixa un mapa de districtes (boroughs) amb opció per a mapa de calor.\n",
        "\n",
        "    Args:\n",
        "        ax (matplotlib.axes.Axes): L'eix de matplotlib on dibuixar el mapa.\n",
        "        gdf (geopandas.GeoDataFrame): El GeoDataFrame amb les geometries dels districtes.\n",
        "        col_borough (str): El nom de la columna que conté els noms dels districtes.\n",
        "        heat (dict, optional): Un diccionari on les claus són els noms dels districtes i els valors són les dades per al mapa de calor. Per defecte és un diccionari buit.\n",
        "    \"\"\"\n",
        "    continent = [235/256, 151/256, 78/256]\n",
        "    ocean = (89/256, 171/256, 227/256)\n",
        "    ax.set_facecolor(ocean)\n",
        "\n",
        "    reg_list = {'Staten Island':1, 'Queens':2, 'Bronx':3, 'Manhattan':4, 'EWR':5, 'Brooklyn':6}\n",
        "    reg_centers = {k: [] for k in reg_list}\n",
        "\n",
        "    if heat:\n",
        "        norm = mpl.colors.Normalize(vmin=math.sqrt(min(heat.values())), vmax=math.sqrt(max(heat.values())))\n",
        "        cmap = plt.get_cmap('Reds')\n",
        "    else:\n",
        "        norm = mpl.colors.Normalize(vmin=1, vmax=6)\n",
        "        cmap = plt.get_cmap('Pastel1')\n",
        "\n",
        "    for _, row in gdf.iterrows():\n",
        "        borough = row[col_borough]\n",
        "        geom = row.geometry\n",
        "\n",
        "        if heat:\n",
        "            value = math.sqrt(heat[borough])\n",
        "            color = cmap(norm(value))[:3]\n",
        "        else:\n",
        "            color = cmap(norm(reg_list[borough]))[:3]\n",
        "\n",
        "        gpd.GeoSeries([geom]).plot(ax=ax, facecolor=color, edgecolor='black', linewidth=0.5)\n",
        "\n",
        "        centroid = geom.centroid\n",
        "        reg_centers[borough].append((centroid.x, centroid.y))\n",
        "\n",
        "    for k in reg_list:\n",
        "        x_coords, y_coords = zip(*reg_centers[k])\n",
        "        x, y = np.mean(x_coords), np.mean(y_coords)\n",
        "        label = f\"{k}\\n({heat[k]/1000:.0f}K)\" if heat else k\n",
        "        ax.text(x, y, label, ha='center', va='center',\n",
        "                bbox=dict(facecolor='black', alpha=0.5), color='white', fontsize=12)\n",
        "\n",
        "    lat_min, lat_max, lon_min, lon_max = get_boundaries(gdf)\n",
        "    ax.set_xlim(lat_min, lat_max)\n",
        "    ax.set_ylim(lon_min, lon_max)"
      ],
      "metadata": {
        "id": "85G1CuivwjNM"
      },
      "id": "85G1CuivwjNM",
      "execution_count": null,
      "outputs": []
    },
    {
      "cell_type": "markdown",
      "id": "exterior-seventh",
      "metadata": {
        "id": "exterior-seventh"
      },
      "source": [
        "### Importem dades de geodata"
      ]
    },
    {
      "cell_type": "code",
      "source": [
        "from google.colab import drive\n",
        "drive.mount('/content/drive')"
      ],
      "metadata": {
        "id": "cDKkeCnIxc29"
      },
      "id": "cDKkeCnIxc29",
      "execution_count": null,
      "outputs": []
    },
    {
      "cell_type": "code",
      "source": [
        "# Define the path to your shapefile\n",
        "shapefile_path = './drive/MyDrive/dataset/geodata_taxis/taxi_zones.shp'\n",
        "\n",
        "# Use geopandas to open the shapefile\n",
        "sf = gpd.read_file(shapefile_path)\n",
        "\n",
        "fields_name = sf.columns.tolist()\n",
        "print(\"Field Names:\", fields_name)\n",
        "\n",
        "shp_attr = sf.drop(columns=['geometry']).to_dict(orient='records')\n",
        "print(\"\\nFirst 5 attributes (as dictionaries):\")\n",
        "for i, attr in enumerate(shp_attr[:5]):\n",
        "    print(attr)\n"
      ],
      "metadata": {
        "id": "9GPlHfHeuqtn"
      },
      "id": "9GPlHfHeuqtn",
      "execution_count": null,
      "outputs": []
    },
    {
      "cell_type": "code",
      "source": [
        "sf.head()"
      ],
      "metadata": {
        "id": "r11J39vbx1g-"
      },
      "id": "r11J39vbx1g-",
      "execution_count": null,
      "outputs": []
    },
    {
      "cell_type": "code",
      "source": [
        "df_loc_coords = get_lat_lon(sf, 'LocationID')\n",
        "df_loc_coords['LocationID'] = df_loc_coords['LocationID'].astype(int)\n",
        "sf['LocationID'] = sf['LocationID'].astype(int)\n",
        "\n",
        "df_loc = sf.join(df_loc_coords.set_index(\"LocationID\"), on=\"LocationID\")\n",
        "df_loc.head()"
      ],
      "metadata": {
        "id": "lLqLoo7m1mHn"
      },
      "id": "lLqLoo7m1mHn",
      "execution_count": null,
      "outputs": []
    },
    {
      "cell_type": "code",
      "execution_count": null,
      "id": "empirical-blogger",
      "metadata": {
        "id": "empirical-blogger"
      },
      "outputs": [],
      "source": [
        "df.head()"
      ]
    },
    {
      "cell_type": "markdown",
      "id": "institutional-border",
      "metadata": {
        "id": "institutional-border"
      },
      "source": [
        "Només tenim la ID d'una localització, per tant, necessitem aconseguir la latitud i la longitud.\n",
        "\n",
        "La mateixa pàgina dels taxis ens dóna el fitxer *taxi_zones.zip*, però primer cal que convertim les dades de coordenades amb format WGS84.\n",
        "\n",
        "Podem utilitzar aquesta web: https://mygeodata.cloud/"
      ]
    },
    {
      "cell_type": "code",
      "source": [
        "fig, ax = plt.subplots(nrows=1, ncols=2, figsize=(20,20))\n",
        "ax = plt.subplot(1, 2, 1)\n",
        "plt.title(\"NYC Borough Map\")\n",
        "draw_region_map(ax, sf, col_borough='borough')\n",
        "ax.grid(False)\n",
        "ax = plt.subplot(1, 2, 2)\n",
        "plt.title(\"Taxi Zone Map\")\n",
        "draw_zone_map(ax, sf, col_id='LocationID', col_zone='zone', col_area='Shape_Area')\n",
        "plt.show()\n"
      ],
      "metadata": {
        "id": "W6LT5RItyF4N"
      },
      "id": "W6LT5RItyF4N",
      "execution_count": null,
      "outputs": []
    },
    {
      "cell_type": "code",
      "execution_count": null,
      "id": "right-victoria",
      "metadata": {
        "id": "right-victoria"
      },
      "outputs": [],
      "source": [
        "df.shape"
      ]
    },
    {
      "cell_type": "code",
      "source": [
        "df_merged = pd.merge(df, df_loc, left_on = 'PULocationID', right_on = 'LocationID')"
      ],
      "metadata": {
        "id": "ckpwWc-wzq48"
      },
      "id": "ckpwWc-wzq48",
      "execution_count": null,
      "outputs": []
    },
    {
      "cell_type": "code",
      "source": [
        "df_merged.head(2)"
      ],
      "metadata": {
        "id": "O52MdSC-zq7e"
      },
      "id": "O52MdSC-zq7e",
      "execution_count": null,
      "outputs": []
    },
    {
      "cell_type": "code",
      "source": [
        "df_merged.shape"
      ],
      "metadata": {
        "id": "bKcWFFpozq9z"
      },
      "id": "bKcWFFpozq9z",
      "execution_count": null,
      "outputs": []
    },
    {
      "cell_type": "code",
      "source": [],
      "metadata": {
        "id": "-p4Frx6iz_nP"
      },
      "id": "-p4Frx6iz_nP",
      "execution_count": null,
      "outputs": []
    },
    {
      "cell_type": "markdown",
      "id": "wrong-consolidation",
      "metadata": {
        "id": "wrong-consolidation"
      },
      "source": [
        "## 06. ¿Quines zones tenen més recollides i quines zones tenen més entregues?\n",
        "\n",
        "En aquest apartat volem conèixer i visualitzar les zones on els taxis són més utilitzats.\n",
        "\n",
        "El primer pas és ordenar i guardar en una variable els llocs més comuns en la recollida i el destí.\n",
        "\n",
        "Printa els 5 llocs més freqüents per any en cada cas."
      ]
    },
    {
      "cell_type": "code",
      "execution_count": null,
      "id": "medical-command",
      "metadata": {
        "id": "medical-command"
      },
      "outputs": [],
      "source": [
        "# Recollida\n",
        "top_pu = df_merged.groupby(['pickup_year','PULocationID'])['PULocationID'].count().reset_index(name='PUcount').sort_values(by='PUcount',ascending=False)\n",
        "top_pu = pd.merge(top_pu, sf[['LocationID','zone']], left_on='PULocationID', right_on='LocationID').drop(labels='LocationID',axis=1)\n",
        "\n",
        "# Destí\n",
        "top_do = df_merged.groupby(['pickup_year','DOLocationID'])['DOLocationID'].count().reset_index(name='DOcount').sort_values(by='DOcount',ascending=False)\n",
        "top_do = pd.merge(top_do, sf[['LocationID','zone']], left_on='DOLocationID', right_on='LocationID').drop(labels='LocationID',axis=1)"
      ]
    },
    {
      "cell_type": "code",
      "execution_count": null,
      "id": "virtual-range",
      "metadata": {
        "id": "virtual-range"
      },
      "outputs": [],
      "source": [
        "n_top = 5\n",
        "def show_top_n(df, column, df_loc, n_top = n_top):\n",
        "    \"\"\"\n",
        "    Funció que mostra els llocs més usuals per any\n",
        "\n",
        "    Args:\n",
        "        df (pd.DataFrame): El DataFrame d'entrada amb les dades agrupades i el recompte de localitzacions.\n",
        "        column (str): El nom de la columna que indica si són localitzacions de recollida ('PULocationID') o de destinació ('DOLocationID').\n",
        "        df_loc (pd.DataFrame): DataFrame amb informació de les localitzacions, incloent 'LocationID' i 'zone'.\n",
        "        n_top (int, optional): El nombre de localitzacions principals a mostrar. Per defecte és 5.\n",
        "    \"\"\"\n",
        "    if column =='PULocationID':\n",
        "        for i in range(3):\n",
        "            print(\"\\n\\n\\n\\n            TOP 5 PU LOCATIONS {}\".format(2019+i))\n",
        "            display(top_pu.groupby(['pickup_year']).get_group(2019+i).head(n_top)[['zone','PULocationID','PUcount']])\n",
        "\n",
        "    else:\n",
        "        for i in range(3):\n",
        "            print(\"\\n\\n\\n\\n            TOP 5 DO LOCATIONS {}\".format(2019+i))\n",
        "            display(top_do.groupby(['pickup_year']).get_group(2019+i).head(n_top)[['zone','DOLocationID','DOcount']])"
      ]
    },
    {
      "cell_type": "code",
      "execution_count": null,
      "id": "smoking-passion",
      "metadata": {
        "id": "smoking-passion"
      },
      "outputs": [],
      "source": [
        "show_top_n(top_pu, 'PULocationID', sf)"
      ]
    },
    {
      "cell_type": "code",
      "execution_count": null,
      "id": "destroyed-kinase",
      "metadata": {
        "id": "destroyed-kinase"
      },
      "outputs": [],
      "source": []
    },
    {
      "cell_type": "markdown",
      "id": "natural-release",
      "metadata": {
        "id": "natural-release"
      },
      "source": [
        "**Visualitzem amb un mapa de calor quines són les zones més recurrents**"
      ]
    },
    {
      "cell_type": "code",
      "execution_count": null,
      "id": "compliant-morning",
      "metadata": {
        "id": "compliant-morning"
      },
      "outputs": [],
      "source": [
        "for i in range(len(YEARS)):\n",
        "\n",
        "    fig, ax = plt.subplots(1,2,figsize=(25,10))\n",
        "\n",
        "    ax = plt.subplot(1, 2, 1)\n",
        "    ax.set_title(f\"Zones with most pickups - {2019+i}\")\n",
        "    draw_zone_map(ax, sf,'LocationID', 'zone', 'Shape_Area', heat=top_pu.set_index('PULocationID').groupby(['pickup_year']).get_group((2019+i))['PUcount'].to_dict(), text=list(top_pu.groupby(['pickup_year']).get_group((2019+i))['PULocationID'].head(5)))\n",
        "\n",
        "    ax = plt.subplot(1, 2, 2)\n",
        "    ax.set_title(f\"Zones with most dropoffs - {2019+i}\")\n",
        "    draw_zone_map(ax, sf,'LocationID', 'zone', 'Shape_Area', heat=top_do.set_index('DOLocationID').groupby(['pickup_year']).get_group((2019+i))['DOcount'].to_dict(), text=list(top_do.groupby(['pickup_year']).get_group((2019+i))['DOLocationID'].head(5)))\n"
      ]
    },
    {
      "cell_type": "markdown",
      "id": "centered-velvet",
      "metadata": {
        "id": "centered-velvet"
      },
      "source": [
        "**Pregunta: Per què creieu que la zona de Manhattan té més quantitat de viatges?**\n"
      ]
    },
    {
      "cell_type": "code",
      "execution_count": null,
      "id": "married-asthma",
      "metadata": {
        "id": "married-asthma"
      },
      "outputs": [],
      "source": []
    }
  ],
  "metadata": {
    "kernelspec": {
      "display_name": "Python 3 (ipykernel)",
      "language": "python",
      "name": "python3"
    },
    "language_info": {
      "codemirror_mode": {
        "name": "ipython",
        "version": 3
      },
      "file_extension": ".py",
      "mimetype": "text/x-python",
      "name": "python",
      "nbconvert_exporter": "python",
      "pygments_lexer": "ipython3",
      "version": "3.8.13"
    },
    "colab": {
      "provenance": [],
      "toc_visible": true,
      "include_colab_link": true
    }
  },
  "nbformat": 4,
  "nbformat_minor": 5
}